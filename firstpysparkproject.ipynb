<?xml version="1.0" encoding="UTF-8"?>
<!DOCTYPE plist PUBLIC "-//Apple//DTD PLIST 1.0//EN" "http://www.apple.com/DTDs/PropertyList-1.0.dtd">
<plist version="1.0">
<dict>
	<key>URL</key>
	<string>https://dmj5buvfzrgv7p72tnfy7j7yyu-dot-us-central1.dataproc.googleusercontent.com/gateway/default/jupyter/notebooks/mattgdatastorage123/notebooks/jupyter/firstpysparkproject.ipynb</string>
</dict>
</plist>
